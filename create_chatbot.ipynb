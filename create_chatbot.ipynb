{
 "cells": [
  {
   "cell_type": "code",
   "execution_count": 1,
   "id": "dcbeb78e",
   "metadata": {},
   "outputs": [
    {
     "name": "stderr",
     "output_type": "stream",
     "text": [
      "/tmp/ipykernel_21025/1923221998.py:14: LangChainDeprecationWarning: The class `Neo4jGraph` was deprecated in LangChain 0.3.8 and will be removed in 1.0. An updated version of the class exists in the :class:`~langchain-neo4j package and should be used instead. To use it run `pip install -U :class:`~langchain-neo4j` and import as `from :class:`~langchain_neo4j import Neo4jGraph``.\n",
      "  graph = Neo4jGraph(\n"
     ]
    }
   ],
   "source": [
    "from langchain.graphs import Neo4jGraph\n",
    "from langchain_openai import AzureChatOpenAI\n",
    "from dotenv import load_dotenv\n",
    "import os\n",
    "from langchain.prompts import PromptTemplate\n",
    "from langchain.chains import GraphCypherQAChain\n",
    "\n",
    "load_dotenv()\n",
    "\n",
    "NEO4J_URI = \"neo4j://localhost:7687\"\n",
    "NEO4J_USER = \"neo4j\"\n",
    "NEO4J_PASSWORD = \"4NROB-HI\"\n",
    "\n",
    "graph = Neo4jGraph(\n",
    "    url=NEO4J_URI,\n",
    "    username=NEO4J_USER,\n",
    "    password=NEO4J_PASSWORD,\n",
    ")\n",
    "\n",
    "AZURE_API_KEY     = os.getenv(\"AZURE_OPENAI_API_KEY\")\n",
    "AZURE_ENDPOINT    = os.getenv(\"AI_BASE\")\n",
    "AZURE_DEPLOYMENT  = os.getenv(\"AZURE_DEPLOYMENT\")\n",
    "AZURE_API_VERSION = os.getenv(\"AZURE_OPENAI_VERSION\")\n",
    "\n",
    "\n",
    "llm = AzureChatOpenAI(\n",
    "    api_key=AZURE_API_KEY,\n",
    "    azure_endpoint=AZURE_ENDPOINT,\n",
    "    deployment_name=AZURE_DEPLOYMENT,\n",
    "    api_version=AZURE_API_VERSION,\n",
    "    temperature=0,\n",
    "    # max_tokens=2000,\n",
    ")\n"
   ]
  },
  {
   "cell_type": "code",
   "execution_count": 2,
   "id": "4f600091",
   "metadata": {},
   "outputs": [],
   "source": [
    "schema_str = graph.schema"
   ]
  },
  {
   "cell_type": "code",
   "execution_count": 3,
   "id": "f4d5b474",
   "metadata": {},
   "outputs": [
    {
     "name": "stdout",
     "output_type": "stream",
     "text": [
      "('Node properties:\\n'\n",
      " 'InventoryLevel1 {name: STRING}\\n'\n",
      " 'InventoryLevel2 {name: STRING}\\n'\n",
      " 'InventoryLevel3 {name: STRING}\\n'\n",
      " 'InventoryLevel4 {name: STRING}\\n'\n",
      " 'GroupCompany {name: STRING}\\n'\n",
      " 'Relationship properties:\\n'\n",
      " 'HAS_AMOUNT {year: STRING, amount: FLOAT}\\n'\n",
      " 'The relationships:\\n'\n",
      " '(:InventoryLevel1)-[:HAS_SUB_INVENTORY]->(:InventoryLevel2)\\n'\n",
      " '(:InventoryLevel2)-[:HAS_SUB_INVENTORY]->(:InventoryLevel3)\\n'\n",
      " '(:InventoryLevel2)-[:HAS_SUB_INVENTORY]->(:InventoryLevel4)\\n'\n",
      " '(:InventoryLevel3)-[:HAS_SUB_INVENTORY]->(:InventoryLevel4)\\n'\n",
      " '(:GroupCompany)-[:HAS_AMOUNT]->(:InventoryLevel3)\\n'\n",
      " '(:GroupCompany)-[:HAS_AMOUNT]->(:InventoryLevel4)\\n'\n",
      " '(:GroupCompany)-[:HAS_AMOUNT]->(:InventoryLevel2)\\n'\n",
      " '(:GroupCompany)-[:HAS_AMOUNT]->(:InventoryLevel1)')\n"
     ]
    }
   ],
   "source": [
    "import pprint\n",
    "pprint.pprint(schema_str)"
   ]
  },
  {
   "cell_type": "code",
   "execution_count": 4,
   "id": "7b259031",
   "metadata": {},
   "outputs": [],
   "source": [
    "def extract_nodes_by_label_from_markdown(md_path):\n",
    "    with open(md_path, \"r\", encoding=\"utf-8\") as f:\n",
    "        md = f.read()\n",
    "    \n",
    "    import re\n",
    "\n",
    "    # Patterns to extract each section (greedy until next heading or end of string)\n",
    "    def extract_section(title):\n",
    "        pattern = rf\"### {re.escape(title)}\\n((?:- .+\\n)+)\"\n",
    "        match = re.search(pattern, md)\n",
    "        if match:\n",
    "            # Remove the leading \"- \" from each line and join\n",
    "            items = [line[2:].strip() for line in match.group(1).strip().split(\"\\n\") if line.startswith(\"- \")]\n",
    "            return \"\\n\".join(items)\n",
    "        else:\n",
    "            return \"\"\n",
    "\n",
    "    group_companies = extract_section(\"GroupCompany\")\n",
    "    inventorylevel1 = extract_section(\"InventoryLevel1\")\n",
    "    inventorylevel2 = extract_section(\"InventoryLevel2\")\n",
    "    inventorylevel3 = extract_section(\"InventoryLevel3\")\n",
    "    inventorylevel4 = extract_section(\"InventoryLevel4\")\n",
    "\n",
    "    return group_companies, inventorylevel1, inventorylevel2, inventorylevel3, inventorylevel4\n",
    "\n",
    "# Example usage:\n",
    "md_path = \"kg_schema_overview.md\"\n",
    "group_companies, inventorylevel1, inventorylevel2, inventorylevel3, inventorylevel4 = extract_nodes_by_label_from_markdown(md_path)\n",
    "\n",
    "# print(\"### GroupCompany\")\n",
    "# print(group_companies)\n",
    "# print(\"\\n### InventoryLevel1\")\n",
    "# print(inventorylevel1)\n",
    "# print(\"\\n### InventoryLevel2\")\n",
    "# print(inventorylevel2)\n",
    "# print(\"\\n### InventoryLevel3\")\n",
    "# print(inventorylevel3)\n",
    "# print(\"\\n### InventoryLevel4\")\n",
    "# print(inventorylevel4)\n"
   ]
  },
  {
   "cell_type": "code",
   "execution_count": 5,
   "id": "8f9d0b97",
   "metadata": {},
   "outputs": [
    {
     "data": {
      "text/plain": [
       "'Finished Goods\\nInventory Machinery Spares\\nOther Inventory\\nRaw Material & Mfg. Componets\\nStock in Trade\\nStores and Spares\\nTools\\nWork-in-Progress'"
      ]
     },
     "execution_count": 5,
     "metadata": {},
     "output_type": "execute_result"
    }
   ],
   "source": [
    "inventorylevel2"
   ]
  },
  {
   "cell_type": "code",
   "execution_count": 6,
   "id": "57d129a6",
   "metadata": {},
   "outputs": [],
   "source": [
    "inventory_type = inventorylevel1 + '\\n' + inventorylevel2 + '\\n' + inventorylevel3 + '\\n' + inventorylevel4"
   ]
  },
  {
   "cell_type": "code",
   "execution_count": 7,
   "id": "60648d89",
   "metadata": {},
   "outputs": [
    {
     "data": {
      "text/plain": [
       "'Inventories\\nFinished Goods\\nInventory Machinery Spares\\nOther Inventory\\nRaw Material & Mfg. Componets\\nStock in Trade\\nStores and Spares\\nTools\\nWork-in-Progress\\nFinished Goods\\nRaw Material & Mfg. Componet\\nStock In Transit - Finised Goods\\nStock In Transit - Raw Material\\nStock In Transit - Traded Goods\\nStock in Trade\\nClg Stock - Construction W I P - B/s\\nClg Stock - Finished Goods - B/s\\nClg Stock - Mfg Component B/s\\nClg Stock - Raw Material-B/s\\nClg Stock - Wip - B/s\\nClg Stock In Transit - FG B/s\\nClg Stock In Transit - Rm - B/s\\nClosing Stock- Gunny Bags\\nConstruction Work In Progress\\nFood & Beverages\\nG-Stock Materiali Ricoperti CBN\\nIn Transit - Stores & Spares\\nInd-AS  Inventories\\nInventorie Consumable Stores & Misc.\\nInventory Dies\\nInventory Machinery Spares-Imported\\nInventory Manufactured Tools\\nInventory Oils, Grease & Chemicals\\nInventory Packing Material\\nInventory Spares\\nInventory Spares- Manual Adj\\nInventory Stores- Manual Adj\\nInventory Tools\\nInventory Tools- Manual Adj\\nPlant & Machinery Held For Sale\\nStock in trade\\nStock in transit - Stores & Spares\\nStock in transit - Tools\\nStock in transit - Traded goods\\nWIP- Seed Potato Facility A/c'"
      ]
     },
     "execution_count": 7,
     "metadata": {},
     "output_type": "execute_result"
    }
   ],
   "source": [
    "inventory_type"
   ]
  },
  {
   "cell_type": "code",
   "execution_count": 8,
   "id": "07a26cfd",
   "metadata": {},
   "outputs": [
    {
     "data": {
      "text/plain": [
       "'AS\\nAgri\\nCE\\nCONT SOUR\\nCORP\\nFES\\nHO\\nINTNL OPER\\nMDS\\nNON MRV\\nPowerol\\nSBU\\nSOURCING\\nSWARAJ\\nSynergy\\nTPDS\\nTW'"
      ]
     },
     "execution_count": 8,
     "metadata": {},
     "output_type": "execute_result"
    }
   ],
   "source": [
    "group_companies"
   ]
  },
  {
   "cell_type": "code",
   "execution_count": 9,
   "id": "9eeea0c8",
   "metadata": {},
   "outputs": [],
   "source": [
    "NORMALIZE_PROMPT = \"\"\"\n",
    "You are a strict information extraction agent.\n",
    "Your task is to extract and map relevant keywords from the user query to their exact forms as found in the provided lists.\n",
    "You MUST return only the following JSON object and nothing else. Do not add explanations, notes, or preamble.\n",
    "\n",
    "Group company names:\n",
    "{group_companies}\n",
    "\n",
    "Inventory type names:\n",
    "{inventory_type}\n",
    "\n",
    "Year values:\n",
    "- FY23\n",
    "- FY24\n",
    "\n",
    "User query:\n",
    "{user_query}\n",
    "\n",
    "Return only this JSON object (use null if not found):\n",
    "{{\n",
    "  \"company_name\": \"<matching group company name>\",\n",
    "  \"inventory_type\": \"<matching inventory type>\",\n",
    "  \"year\": \"<matching year>\",\n",
    "  \"canonicalized_query\": \"<original query with all keywords replaced by their canonical KG forms>\"\n",
    "}}\n",
    "\"\"\"\n"
   ]
  },
  {
   "cell_type": "code",
   "execution_count": 10,
   "id": "b123a3e2",
   "metadata": {},
   "outputs": [
    {
     "name": "stdout",
     "output_type": "stream",
     "text": [
      "Raw LLM output: {\n",
      "  \"company_name\": \"AS\",\n",
      "  \"inventory_type\": \"WIP- Seed Potato Facility A/c\",\n",
      "  \"year\": \"FY23\",\n",
      "  \"canonicalized_query\": \"what are the value of WIP- Seed Potato Facility A/c of the AS sector for year FY23?\"\n",
      "}\n",
      "Normalized: company_name='AS' inventory_type='WIP- Seed Potato Facility A/c' year='FY23' canonicalized_query='what are the value of WIP- Seed Potato Facility A/c of the AS sector for year FY23?'\n",
      "Canonicalized Query: what are the value of WIP- Seed Potato Facility A/c of the AS sector for year FY23?\n"
     ]
    }
   ],
   "source": [
    "import json\n",
    "import re\n",
    "from pydantic import BaseModel, ValidationError\n",
    "from typing import Optional\n",
    "\n",
    "class NormalizationResult(BaseModel):\n",
    "    company_name: Optional[str]\n",
    "    inventory_type: Optional[str]\n",
    "    year: Optional[str]\n",
    "    canonicalized_query: Optional[str]\n",
    "\n",
    "def normalize_entities(user_query):\n",
    "    prompt = NORMALIZE_PROMPT.format(user_query=user_query, group_companies=group_companies, inventory_type=inventory_type)\n",
    "    result = llm.invoke(prompt)\n",
    "    content = result.content if hasattr(result, 'content') else str(result)\n",
    "    print(\"Raw LLM output:\", content)\n",
    "    # Extract JSON robustly\n",
    "    match = re.search(r\"\\{.*\\}\", content, re.DOTALL)\n",
    "    json_str = match.group(0) if match else \"{}\"\n",
    "    try:\n",
    "        normalized = NormalizationResult.model_validate_json(json_str)\n",
    "    except ValidationError as ve:\n",
    "        print(\"Validation error:\", ve)\n",
    "        # Optionally, try to coerce to dict\n",
    "        normalized = None\n",
    "    return normalized\n",
    "\n",
    "# Example usage:\n",
    "user_query = \"what are the value of Seed Potato Facility of the AS sector for year 2023?\"\n",
    "normalized = normalize_entities(user_query)\n",
    "print(\"Normalized:\", normalized)\n",
    "if normalized:\n",
    "    print(\"Canonicalized Query:\", normalized.canonicalized_query)\n"
   ]
  },
  {
   "cell_type": "code",
   "execution_count": 11,
   "id": "1f0839e2",
   "metadata": {},
   "outputs": [],
   "source": [
    "CYPHER_GENERATION_TEMPLATE = \"\"\"\n",
    "Task: Generate one or more Cypher queries that extract all first-level connections—nodes, relationships, and every property on them—for the inventories and/or group companies mentioned in the user’s question, using the schema below.\n",
    "\n",
    "Instructions:\n",
    "\n",
    "1. Node labels allowed: GroupCompany, InventoryLevel1, InventoryLevel2, InventoryLevel3, InventoryLevel4\n",
    "2. Relationship types allowed: HAS_AMOUNT, HAS_SUB_INVENTORY\n",
    "3. Extract all possible nodes that are directly related to the target inventories or group companies specified in the question.\n",
    "4. Fetch every possible relationship (edge) of the allowed types connecting those nodes.\n",
    "5. Always return every property on every matched node and relationship (e.g., name, year, amount, id).\n",
    "6. If the question names a group company, inventory, or year, include an explicit WHERE clause filter for it.\n",
    "7. Explicitly name relationship variables in MATCH (e.g., r1, r2) and use those variables in RETURN.\n",
    "8. Do not aggregate, create, or assume any properties, labels, or relationship types that aren’t in the schema.\n",
    "9. When the question mentions a single inventory hierarchy (e.g., “Stores and Spares”), you may traverse that hierarchy with HAS_SUB_INVENTORY*0..2 to discover all sub-levels, but still only return direct relationships and their nodes.\n",
    "10. Provide only the Cypher query text—no comments or explanations.\n",
    "\n",
    "Schema:\n",
    "{schema}\n",
    "\n",
    "Rules:\n",
    "\n",
    "Every variable returned must be bound in a corresponding MATCH clause.\n",
    "\n",
    "Return all properties for those variables in the RETURN clause.\n",
    "\n",
    "The question is:\n",
    "{question}\n",
    "\n",
    "Examples (increasing complexity):\n",
    "\n",
    "Question: “What is the difference in Stock in trade count for the company 133-FES from FY24 to FY23?”Cypher:\n",
    "\n",
    "MATCH (gc:GroupCompany {name: \"133-FES\"})-[r:HAS_AMOUNT]->(inv:InventoryLevel4 {name: \"Stock in trade\"})\n",
    "WHERE r.year IN [\"FY23\",\"FY24\"]\n",
    "RETURN gc, r, inv\n",
    "\n",
    "Question: “Why is the Stores and Spares inventory higher for Powerol in 2024 than in 2023?”Cypher:\n",
    "\n",
    "MATCH (inv2:InventoryLevel2 {name: \"Stores and Spares\"})-[:HAS_SUB_INVENTORY*0..2]->(inv4:InventoryLevel4)\n",
    "MATCH (gc:GroupCompany {name: \"Powerol\"})-[r:HAS_AMOUNT]->(inv4)\n",
    "WHERE r.year IN [\"2023\",\"2024\"]\n",
    "RETURN inv2, inv4, gc, r\n",
    "\n",
    "Question: “What factors contribute to the difference in Finished Goods for SWARAJ for 2023 and 2024?”Cypher:\n",
    "\n",
    "MATCH (inv2:InventoryLevel2 {name: \"Finished Goods\"})-[:HAS_SUB_INVENTORY*0..2]->(inv4:InventoryLevel4)\n",
    "MATCH (gc:GroupCompany {name: \"SWARAJ\"})-[r:HAS_AMOUNT]->(inv4)\n",
    "WHERE r.year IN [\"2023\",\"2024\"]\n",
    "RETURN inv2, inv4, gc, r\n",
    "\n",
    "Question: “What is the value of WIP- Seed Potato Facility A/c for the AS sector in FY23?”Cypher:\n",
    "\n",
    "MATCH (gc:GroupCompany {name: \"AS\"})-[r:HAS_AMOUNT]->(inv:InventoryLevel4 {name: \"WIP- Seed Potato Facility A/c\"})\n",
    "WHERE r.year = \"FY23\"\n",
    "RETURN gc, r, inv\n",
    "\n",
    "Question: “Retrieve all first-level inventory hierarchies and amount relationships for all sub-inventories under 'Maintenance Parts' for company 'GlobalManufacturing' in 2022, including every connected GroupCompany node and their relationship properties.”Cypher:\n",
    "\n",
    "MATCH (inv1:InventoryLevel1 {name: \"Maintenance Parts\"})-[:HAS_SUB_INVENTORY]->(inv2:InventoryLevel2)\n",
    "MATCH (inv2)-[:HAS_SUB_INVENTORY]->(inv3:InventoryLevel3)\n",
    "MATCH (inv3)-[:HAS_SUB_INVENTORY]->(inv4:InventoryLevel4)\n",
    "MATCH (gc:GroupCompany {name: \"GlobalManufacturing\"})-[r:HAS_AMOUNT]->(inv4)\n",
    "WHERE r.year = \"2022\"\n",
    "RETURN inv1, inv2, inv3, inv4, gc, r\n",
    "\n",
    "Question: “Show all direct connections and properties for the inventory item ‘Tools’, including any parent or child inventories and every group company amount relationship.”Cypher:\n",
    "\n",
    "MATCH (inv2:InventoryLevel2 {name: \"Tools\"})-[:HAS_SUB_INVENTORY]->(inv4:InventoryLevel4)\n",
    "MATCH (inv2)<-[r1:HAS_SUB_INVENTORY]-(inv1:InventoryLevel1)\n",
    "MATCH (inv4)<-[r2:HAS_AMOUNT]-(gc:GroupCompany)\n",
    "RETURN inv1, r1, inv2, inv4, r2, gc\n",
    "\n",
    "\"\"\"\n",
    "\n",
    "\n",
    "cypher_prompt = PromptTemplate(\n",
    "    input_variables=[\"query\"],\n",
    "    template=CYPHER_GENERATION_TEMPLATE,\n",
    ")\n",
    "\n",
    "\n",
    "\n",
    "# Create the GraphCypherQAChain with the prompt template and graph\n",
    "chain = GraphCypherQAChain.from_llm(\n",
    "    graph=graph,\n",
    "    cypher_llm=llm,\n",
    "    qa_llm=llm,\n",
    "    cypher_prompt=cypher_prompt,\n",
    "    verbose=True,\n",
    "    allow_dangerous_requests=True,\n",
    "    return_intermediate_steps=True\n",
    ")\n",
    "\n",
    "## Chain without the prompt template\n",
    "chain2 = GraphCypherQAChain.from_llm(\n",
    "    llm, graph=graph, verbose=True, allow_dangerous_requests=True\n",
    ")\n"
   ]
  },
  {
   "cell_type": "code",
   "execution_count": 13,
   "id": "b3087c67",
   "metadata": {},
   "outputs": [
    {
     "name": "stdout",
     "output_type": "stream",
     "text": [
      "Raw LLM output: {\n",
      "  \"company_name\": \"AS\",\n",
      "  \"inventory_type\": \"Inventory Tools\",\n",
      "  \"year\": \"FY24\",\n",
      "  \"canonicalized_query\": \"which Inventory Tools has the highest difference for AS from FY23 to FY24?\"\n",
      "}\n",
      "INPUT QUERY NORMALIZED\n",
      "which Inventory Tools has the highest difference for AS from FY23 to FY24?\n",
      "\n",
      "\n",
      "\u001b[1m> Entering new GraphCypherQAChain chain...\u001b[0m\n",
      "Generated Cypher:\n",
      "\u001b[32;1m\u001b[1;3mcypher\n",
      "MATCH (g:GroupCompany)-[r:HAS_AMOUNT]->(i:InventoryLevel3)\n",
      "WHERE r.year IN ['FY23', 'FY24']\n",
      "WITH i.name AS inventoryTool, \n",
      "     SUM(CASE WHEN r.year = 'FY24' THEN r.amount ELSE 0 END) AS amountFY24,\n",
      "     SUM(CASE WHEN r.year = 'FY23' THEN r.amount ELSE 0 END) AS amountFY23\n",
      "WITH inventoryTool, amountFY24, amountFY23, (amountFY24 - amountFY23) AS difference\n",
      "ORDER BY difference DESC\n",
      "RETURN inventoryTool, difference\n",
      "LIMIT 1\n",
      "\u001b[0m\n",
      "Full Context:\n",
      "\u001b[32;1m\u001b[1;3m[{'inventoryTool': 'Stock In Transit - Finised Goods', 'difference': 13978068073.599998}]\u001b[0m\n",
      "\n",
      "\u001b[1m> Finished chain.\u001b[0m\n",
      "FINAL RESULT\n",
      "{'query': 'which Inventory Tools has the highest difference for AS from FY23 to FY24?', 'result': 'The Inventory Tool with the highest difference for AS from FY23 to FY24 is \"Stock In Transit - Finished Goods,\" with a difference of 13,978,068,073.60.'}\n"
     ]
    }
   ],
   "source": [
    "user_query = \"which inventory tools has the highest difference for AS from 2023 to 2024?\"\n",
    "normalized = normalize_entities(user_query)\n",
    "print('INPUT QUERY NORMALIZED')\n",
    "print(normalized.canonicalized_query)\n",
    "\n",
    "query = normalized.canonicalized_query\n",
    "\n",
    "# Run the chain with added context\n",
    "result = chain2.invoke({\n",
    "    \"query\": query,\n",
    "})\n",
    "\n",
    "print('FINAL RESULT')\n",
    "print(result)"
   ]
  },
  {
   "cell_type": "code",
   "execution_count": 15,
   "id": "3de53963",
   "metadata": {},
   "outputs": [
    {
     "name": "stdout",
     "output_type": "stream",
     "text": [
      "Raw LLM output: {\n",
      "  \"company_name\": \"FES\",\n",
      "  \"inventory_type\": \"Stock in Trade\",\n",
      "  \"year\": \"FY24\",\n",
      "  \"canonicalized_query\": \"What is the difference in Stock in Trade count for the company 133-FES from FY24 to FY23?\"\n",
      "}\n",
      "INPUT QUERY NORMALIZED\n",
      "What is the difference in Stock in Trade count for the company 133-FES from FY24 to FY23?\n",
      "\n",
      "\n",
      "\u001b[1m> Entering new GraphCypherQAChain chain...\u001b[0m\n",
      "Generated Cypher:\n",
      "\u001b[32;1m\u001b[1;3mcypher\n",
      "MATCH (g:GroupCompany {name: '133-FES'})-[:HAS_AMOUNT]->(i:InventoryLevel3)\n",
      "WITH g, i\n",
      "MATCH (g)-[:HAS_AMOUNT]->(i2:InventoryLevel4)\n",
      "WHERE i.year = 'FY24' OR i.year = 'FY23'\n",
      "RETURN i.year AS Year, SUM(i.amount) - SUM(i2.amount) AS StockDifference\n",
      "\u001b[0m\n",
      "Full Context:\n",
      "\u001b[32;1m\u001b[1;3m[]\u001b[0m\n",
      "\n",
      "\u001b[1m> Finished chain.\u001b[0m\n",
      "FINAL RESULT\n",
      "I don't know the answer.\n"
     ]
    }
   ],
   "source": [
    "user_query = \"What is the difference in Stock-in-trade count for the company 133-FES from FY24 to FY23?\"\n",
    "\n",
    "normalized = normalize_entities(user_query)\n",
    "print('INPUT QUERY NORMALIZED')\n",
    "print(normalized.canonicalized_query)\n",
    "\n",
    "query = normalized.canonicalized_query\n",
    "\n",
    "# Run the chain with added context\n",
    "result = chain2.run({\n",
    "    \"query\": query,\n",
    "})\n",
    "\n",
    "print('FINAL RESULT')\n",
    "print(result)"
   ]
  },
  {
   "cell_type": "code",
   "execution_count": 17,
   "id": "ade120a6",
   "metadata": {},
   "outputs": [
    {
     "name": "stdout",
     "output_type": "stream",
     "text": [
      "Raw LLM output: {\n",
      "  \"company_name\": \"Powerol\",\n",
      "  \"inventory_type\": \"Stores and Spares\",\n",
      "  \"year\": \"FY24\",\n",
      "  \"canonicalized_query\": \"Why is the Stores and Spares increased for Powerol from FY23 to FY24?\"\n",
      "}\n",
      "INPUT QUERY NORMALIZED\n",
      "Why is the Stores and Spares increased for Powerol from FY23 to FY24?\n",
      "\n",
      "\n",
      "\u001b[1m> Entering new GraphCypherQAChain chain...\u001b[0m\n",
      "Generated Cypher:\n",
      "\u001b[32;1m\u001b[1;3mcypher\n",
      "MATCH (gc:GroupCompany {name: 'Powerol'})-[:HAS_AMOUNT]->(il3:InventoryLevel3), (gc)-[:HAS_AMOUNT]->(il4:InventoryLevel4)\n",
      "WHERE il3.name = 'Stores and Spares' AND il4.name = 'Stores and Spares'\n",
      "RETURN il3, il4\n",
      "\u001b[0m\n",
      "Full Context:\n",
      "\u001b[32;1m\u001b[1;3m[]\u001b[0m\n",
      "\n",
      "\u001b[1m> Finished chain.\u001b[0m\n",
      "FINAL RESULT\n",
      "I don't know the answer.\n"
     ]
    }
   ],
   "source": [
    "user_query = \"Why is the stores and spares increased for Powerol from 2023 to 2024?\"\n",
    "\n",
    "normalized = normalize_entities(user_query)\n",
    "print('INPUT QUERY NORMALIZED')\n",
    "print(normalized.canonicalized_query)\n",
    "\n",
    "query = normalized.canonicalized_query\n",
    "\n",
    "# Run the chain with added context\n",
    "result = chain2.run({\n",
    "    \"query\": query,\n",
    "})\n",
    "\n",
    "print('FINAL RESULT')\n",
    "print(result)"
   ]
  },
  {
   "cell_type": "code",
   "execution_count": 19,
   "id": "e914721f",
   "metadata": {},
   "outputs": [
    {
     "name": "stdout",
     "output_type": "stream",
     "text": [
      "Raw LLM output: {\n",
      "  \"company_name\": null,\n",
      "  \"inventory_type\": null,\n",
      "  \"year\": \"FY24\",\n",
      "  \"canonicalized_query\": \"Which inventory has the highest difference and the lowest difference in count for year FY23 and FY24\"\n",
      "}\n",
      "INPUT QUERY NORMALIZED\n",
      "Which inventory has the highest difference and the lowest difference in count for year FY23 and FY24\n",
      "\n",
      "\n",
      "\u001b[1m> Entering new GraphCypherQAChain chain...\u001b[0m\n",
      "Generated Cypher:\n",
      "\u001b[32;1m\u001b[1;3mcypher\n",
      "MATCH (g:GroupCompany)-[r:HAS_AMOUNT]->(i:InventoryLevel3)\n",
      "WHERE r.year IN ['FY23', 'FY24']\n",
      "WITH i.name AS inventory, \n",
      "     SUM(CASE WHEN r.year = 'FY23' THEN r.amount ELSE 0 END) AS amountFY23,\n",
      "     SUM(CASE WHEN r.year = 'FY24' THEN r.amount ELSE 0 END) AS amountFY24,\n",
      "     ABS(SUM(CASE WHEN r.year = 'FY23' THEN r.amount ELSE 0 END) - \n",
      "         SUM(CASE WHEN r.year = 'FY24' THEN r.amount ELSE 0 END)) AS difference\n",
      "RETURN inventory, \n",
      "       difference\n",
      "ORDER BY difference DESC\n",
      "LIMIT 1\n",
      "UNION\n",
      "MATCH (g:GroupCompany)-[r:HAS_AMOUNT]->(i:InventoryLevel3)\n",
      "WHERE r.year IN ['FY23', 'FY24']\n",
      "WITH i.name AS inventory, \n",
      "     SUM(CASE WHEN r.year = 'FY23' THEN r.amount ELSE 0 END) AS amountFY23,\n",
      "     SUM(CASE WHEN r.year = 'FY24' THEN r.amount ELSE 0 END) AS amountFY24,\n",
      "     ABS(SUM(CASE WHEN r.year = 'FY23' THEN r.amount ELSE 0 END) - \n",
      "         SUM(CASE WHEN r.year = 'FY24' THEN r.amount ELSE 0 END)) AS difference\n",
      "RETURN inventory, \n",
      "       difference\n",
      "ORDER BY difference ASC\n",
      "LIMIT 1\n",
      "\u001b[0m\n",
      "Full Context:\n",
      "\u001b[32;1m\u001b[1;3m[{'inventory': 'Stock In Transit - Finised Goods', 'difference': 13978068073.599998}, {'inventory': 'Finished Goods', 'difference': 0.0}]\u001b[0m\n",
      "\n",
      "\u001b[1m> Finished chain.\u001b[0m\n",
      "FINAL RESULT\n",
      "The inventory with the highest difference is \"Stock In Transit - Finished Goods\" with a difference of 13,978,068,073.60, while the inventory with the lowest difference is \"Finished Goods\" with a difference of 0.0.\n"
     ]
    }
   ],
   "source": [
    "user_query = \"Which inventory has the highest difference and the lowest difference in count for year 2023 and 2024\"\n",
    "\n",
    "normalized = normalize_entities(user_query)\n",
    "print('INPUT QUERY NORMALIZED')\n",
    "print(normalized.canonicalized_query)\n",
    "\n",
    "query = normalized.canonicalized_query\n",
    "\n",
    "# Run the chain with added context\n",
    "result = chain2.run({\n",
    "    \"query\": query,\n",
    "})\n",
    "\n",
    "print('FINAL RESULT')\n",
    "print(result)"
   ]
  },
  {
   "cell_type": "code",
   "execution_count": 21,
   "id": "6a119c47",
   "metadata": {},
   "outputs": [
    {
     "name": "stdout",
     "output_type": "stream",
     "text": [
      "Raw LLM output: {\n",
      "  \"company_name\": null,\n",
      "  \"inventory_type\": \"Finished Goods\",\n",
      "  \"year\": \"FY23\",\n",
      "  \"canonicalized_query\": \"which group company have lowest 'Finished Goods' count in FY23?\"\n",
      "}\n",
      "INPUT QUERY NORMALIZED\n",
      "which group company have lowest 'Finished Goods' count in FY23?\n",
      "\n",
      "\n",
      "\u001b[1m> Entering new GraphCypherQAChain chain...\u001b[0m\n",
      "Generated Cypher:\n",
      "\u001b[32;1m\u001b[1;3mcypher\n",
      "MATCH (g:GroupCompany)-[h:HAS_AMOUNT {year: 'FY23'}]->(i:InventoryLevel3 {name: 'Finished Goods'})\n",
      "RETURN g.name, h.amount\n",
      "ORDER BY h.amount ASC\n",
      "LIMIT 1\n",
      "\u001b[0m\n",
      "Full Context:\n",
      "\u001b[32;1m\u001b[1;3m[{'g.name': '139-CORP', 'h.amount': 0.0}]\u001b[0m\n",
      "\n",
      "\u001b[1m> Finished chain.\u001b[0m\n",
      "FINAL RESULT\n",
      "139-CORP has the lowest 'Finished Goods' count in FY23, with an amount of 0.0.\n"
     ]
    }
   ],
   "source": [
    "user_query = \"which group company have lowest 'Finished products produced' count in 2023?\"\n",
    "normalized = normalize_entities(user_query)\n",
    "print('INPUT QUERY NORMALIZED')\n",
    "print(normalized.canonicalized_query)\n",
    "\n",
    "query = normalized.canonicalized_query\n",
    "\n",
    "# Run the chain with added context\n",
    "result = chain2.run({\n",
    "    \"query\": query,\n",
    "})\n",
    "\n",
    "print('FINAL RESULT')\n",
    "print(result)"
   ]
  }
 ],
 "metadata": {
  "kernelspec": {
   "display_name": "graphrag",
   "language": "python",
   "name": "python3"
  },
  "language_info": {
   "codemirror_mode": {
    "name": "ipython",
    "version": 3
   },
   "file_extension": ".py",
   "mimetype": "text/x-python",
   "name": "python",
   "nbconvert_exporter": "python",
   "pygments_lexer": "ipython3",
   "version": "3.10.0"
  }
 },
 "nbformat": 4,
 "nbformat_minor": 5
}
