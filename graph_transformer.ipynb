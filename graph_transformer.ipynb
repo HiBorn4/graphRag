{
 "cells": [
  {
   "cell_type": "code",
   "execution_count": null,
   "id": "5cba3c85",
   "metadata": {},
   "outputs": [],
   "source": [
    "from langchain.graphs import Neo4jGraph\n",
    "from langchain_openai import AzureChatOpenAI\n",
    "from dotenv import load_dotenv\n",
    "import os\n",
    "from langchain.prompts import PromptTemplate\n",
    "from langchain.chains import GraphCypherQAChain\n",
    "\n",
    "load_dotenv()\n",
    "\n",
    "NEO4J_URI = \"neo4j://localhost:7687\"\n",
    "NEO4J_USER = \"neo4j\"\n",
    "NEO4J_PASSWORD = \"4NROB-HI\"\n",
    "\n",
    "graph = Neo4jGraph(\n",
    "    url=NEO4J_URI,\n",
    "    username=NEO4J_USER,\n",
    "    password=NEO4J_PASSWORD,\n",
    ")\n",
    "\n",
    "# Graph Transformer\n",
    "# graph = Neo4jGraph(refresh_schema=False)\n",
    "\n",
    "AZURE_API_KEY     = os.getenv(\"AZURE_OPENAI_API_KEY\")\n",
    "AZURE_ENDPOINT    = os.getenv(\"AI_BASE\")\n",
    "AZURE_DEPLOYMENT  = os.getenv(\"AZURE_DEPLOYMENT\")\n",
    "AZURE_API_VERSION = os.getenv(\"AZURE_OPENAI_VERSION\")\n",
    "\n",
    "\n",
    "llm = AzureChatOpenAI(\n",
    "    api_key=AZURE_API_KEY,\n",
    "    azure_endpoint=AZURE_ENDPOINT,\n",
    "    deployment_name=AZURE_DEPLOYMENT,\n",
    "    api_version=AZURE_API_VERSION,\n",
    "    temperature=0,\n",
    "    # max_tokens=2000,\n",
    ")\n"
   ]
  },
  {
   "cell_type": "code",
   "execution_count": 4,
   "id": "1303510c",
   "metadata": {},
   "outputs": [],
   "source": [
    "from langchain_experimental.graph_transformers import LLMGraphTransformer\n",
    "llm_transformer = LLMGraphTransformer(llm=llm)"
   ]
  },
  {
   "cell_type": "code",
   "execution_count": 12,
   "id": "8df1e9bd",
   "metadata": {},
   "outputs": [],
   "source": [
    "from langchain_core.documents import Document\n",
    "\n",
    "\n",
    "text = \"\"\"\n",
    "\n",
    "L1\tL2\tL3\tL4\t001-AS\t133-FES\t008-SWARAJ\t002-HO\tPowerol\tCE\tAgri\t004-MDS\tSynergy\t007-SBU\tTW\t134-TPDS\t135-INTNL OPER\t138-CONT SOUR\t140-NON MRV\t141-SOURCING\t139-CORP\n",
    "Inventories\t\t\t\t53671516382\t22944652153\t9009308396\t0\t1325324816\t0\t0\t0\t0\t101756237.5\t1760985713\t0\t0\t0\t0\t0\t0\n",
    "\tRaw Material & Mfg. Componets\t\t\t36468349988\t8158078317\t1466552014\t0\t864491092.4\t0\t0\t0\t0\t0\t1464491878\t0\t0\t0\t0\t0\t0\n",
    "\t\tRaw Material & Mfg. Componet\t\t33001594819\t7779327669\t1309178305\t0\t864491092.4\t0\t0\t0\t0\t0\t1464491878\t0\t0\t0\t0\t0\t0\n",
    "\t\t\tClosing Stock- Gunny Bags\t0\t0\t0\t0\t0\t0\t0\t0\t0\t0\t0\t0\t0\t0\t0\t0\t0\n",
    "\t\t\tClg Stock - Raw Material-B/s\t30235079480\t6542914168\t1270706601\t0\t294446899.7\t0\t0\t0\t0\t0\t1464491878\t0\t0\t0\t0\t0\t0\n",
    "\t\t\tClg Stock - Mfg Component B/s\t2766515339\t1236413500\t38471704\t0\t570044192.7\t0\t0\t0\t0\t0\t0\t0\t0\t0\t0\t0\t0\n",
    "\t\tStock In Transit - Raw Material\t\t3466755169\t378750648\t157373709.4\t0\t0\t0\t0\t0\t0\t0\t0\t0\t0\t0\t0\t0\t0\n",
    "\t\t\tClg Stock In Transit - Rm - B/s\t3466755169\t378750648\t157373709.4\t0\t0\t0\t0\t0\t0\t0\t0\t0\t0\t0\t0\t0\t0\n",
    "\tWork-in-Progress\t\t\t749578581.5\t193331922.2\t508730464\t0\t0\t0\t0\t0\t0\t0\t135699393.6\t0\t0\t0\t0\t0\t0\n",
    "\t\t\tWIP- Seed Potato Facility A/c\t0\t0\t0\t0\t0\t0\t0\t0\t0\t0\t0\t0\t0\t0\t0\t0\t0\n",
    "\t\t\tConstruction Work In Progress\t0\t0\t0\t0\t0\t0\t0\t0\t0\t0\t0\t0\t0\t0\t0\t0\t0\n",
    "\t\t\tClg Stock - Wip - B/s\t749578581.5\t193331922.2\t508730464\t0\t0\t0\t0\t0\t0\t0\t135699393.6\t0\t0\t0\t0\t0\t0\n",
    "\t\t\tClg Stock - Construction W I P - B/s\t0\t0\t0\t0\t0\t0\t0\t0\t0\t0\t0\t0\t0\t0\t0\t0\t0\n",
    "\tFinished Goods\t\t\t10435364997\t11506612938\t6260702023\t0\t175333864.3\t0\t0\t0\t0\t0\t122817402.2\t0\t0\t0\t0\t0\t0\n",
    "\t\tStock In Transit - Finised Goods\t\t10435364997\t11506612938\t6260702023\t0\t175333864.3\t0\t0\t0\t0\t0\t122817402.2\t0\t0\t0\t0\t0\t0\n",
    "\t\t\tClg Stock In Transit - FG B/s\t0\t0\t0\t0\t0\t0\t0\t0\t0\t0\t0\t0\t0\t0\t0\t0\t0\n",
    "\t\tFinished Goods\t\t0\t0\t0\t0\t0\t0\t0\t0\t0\t0\t0\t0\t0\t0\t0\t0\t0\n",
    "\t\t\tClg Stock - Finished Goods - B/s\t10435364997\t11506612938\t6260702023\t0\t175333864.3\t0\t0\t0\t0\t0\t122817402.2\t0\t0\t0\t0\t0\t0\n",
    "\tStock in Trade\t\t\t4143497278\t2482314051\t561774256\t0\t285499859.6\t0\t0\t0\t0\t0\t0\t0\t0\t0\t0\t0\t0\n",
    "\t\tStock in Trade\t\t4143497278\t2482314051\t561774256\t0\t285499859.6\t0\t0\t0\t0\t0\t0\t0\t0\t0\t0\t0\t0\n",
    "\t\t\tStock in trade\t4143497278\t2482314051\t561774256\t0\t285499859.6\t0\t0\t0\t0\t0\t0\t0\t0\t0\t0\t0\t0\n",
    "\t\tStock In Transit - Traded Goods.............\t\t0\t0\t0\t0\t0\t0\t0\t0\t0\t0\t0\t0\t0\t0\t0\t0\t0\n",
    "\t\t\tStock in transit - Traded goods\t0\t0\t0\t0\t0\t0\t0\t0\t0\t0\t0\t0\t0\t0\t0\t0\t0\n",
    "\tStores and Spares\t\t\t604815070.6\t99888608.63\t20602986.79\t0\t0\t0\t0\t0\t0\t96520811.48\t4557040.9\t0\t0\t0\t0\t0\t0\n",
    "\t\t\tInventory Oils, Grease & Chemicals\t62117423.19\t59355378.47\t10436570.32\t0\t22224.3\t0\t0\t0\t0\t0\t3621117.71\t0\t0\t0\t0\t0\t0\n",
    "\t\t\tInventorie Consumable Stores & Misc.\t93694887.81\t40284396.67\t13938464.01\t0\t0\t0\t0\t0\t0\t0\t9035547.28\t0\t0\t0\t0\t0\t0\n",
    "\t\t\tG-Stock Materiali Ricoperti CBN\t0\t0\t0\t0\t0\t0\t0\t0\t0\t0\t0\t0\t0\t0\t0\t0\t0\n",
    "\t\t\tStock in transit - Stores & Spares\t0\t763263\t0\t0\t0\t0\t0\t0\t0\t0\t0\t0\t0\t0\t0\t0\t0\n",
    "\t\t\tInventory Stores- Manual Adj\t443645826.3\t-1713583.34\t-5714141.25\t0\t-22224.3\t0\t0\t0\t0\t0\t-9985961.43\t0\t0\t0\t0\t0\t0\n",
    "\t\t\tInventory Packing Material\t5356933.38\t1199153.83\t1942093.71\t0\t0\t0\t0\t0\t0\t96520811.48\t1886337.34\t0\t0\t0\t0\t0\t0\n",
    "\tInventory Machinery Spares\t\t\t807477663.2\t238067319\t153132376.7\t0\t0\t0\t0\t0\t0\t5235426.06\t15255230.68\t0\t0\t0\t0\t0\t0\n",
    "\t\t\tInventory Spares\t801894547.7\t240085712.6\t238801300.5\t0\t0\t0\t0\t0\t0\t235426.06\t15201315.93\t0\t0\t0\t0\t0\t0\n",
    "\t\t\tInventory Machinery Spares-Imported\t15267299.48\t4225495.81\t0\t0\t0\t0\t0\t0\t0\t0\t53914.75\t0\t0\t0\t0\t0\t0\n",
    "\t\t\tInventory Spares- Manual Adj\t-9684183.92\t-6243889.46\t-85668923.76\t0\t0\t0\t0\t0\t0\t5000000\t0\t0\t0\t0\t0\t0\t0\n",
    "\t\t\tIn Transit - Stores & Spares\t-\t-\t-\t-\t-\t-\t-\t-\t-\t-\t-\t-\t-\t-\t-\t-\t-\n",
    "\tTools\t\t\t462432803\t266358996.8\t37814275.65\t0\t0\t0\t0\t0\t0\t0\t18164767.89\t0\t0\t0\t0\t0\t0\n",
    "\t\t\tInventory Tools\t454986377.1\t328455020.6\t77200421\t0\t0\t0\t0\t0\t0\t0\t19019802.89\t0\t0\t0\t0\t0\t0\n",
    "\t\t\tInventory Manufactured Tools\t92781700.65\t13554703.59\t459718.8\t0\t0\t0\t0\t0\t0\t0\t235194.58\t0\t0\t0\t0\t0\t0\n",
    "\t\t\tInventory Tools- Manual Adj\t-85355475.06\t-75650727.32\t-39845864.15\t0\t0\t0\t0\t0\t0\t0\t-1090229.58\t0\t0\t0\t0\t0\t0\n",
    "\t\t\tStock in transit - Tools\t0\t0\t0\t0\t0\t0\t0\t0\t0\t0\t0\t0\t0\t0\t0\t0\t0\n",
    "\t\t\tInventory Dies\t20200.36\t0\t0\t0\t0\t0\t0\t0\t0\t0\t0\t0\t0\t0\t0\t0\t0\n",
    "\tOther Inventory\t\t\t0\t0\t0\t0\t0\t0\t0\t0\t0\t0\t0\t0\t0\t0\t0\t0\t0\n",
    "\t\t\tFood & Beverages\t0\t0\t0\t0\t0\t0\t0\t0\t0\t0\t0\t0\t0\t0\t0\t0\t0\n",
    "\t\t\tInd-AS  Inventories\t0\t0\t0\t0\t0\t0\t0\t0\t0\t0\t0\t0\t0\t0\t0\t0\t0\n",
    "\t\t\tPlant & Machinery Held For Sale\t0\t0\t0\t0\t0\t0\t0\t0\t0\t0\t0\t0\t0\t0\t0\t0\t0\n",
    "\n",
    "\n",
    "\"\"\"    \n",
    "\n",
    "# wrap in a Document first\n",
    "document = Document(page_content=text)\n",
    "\n",
    "# transform into graph documents\n",
    "graph_documents = await llm_transformer.aconvert_to_graph_documents([document])"
   ]
  },
  {
   "cell_type": "code",
   "execution_count": null,
   "id": "dc5ec8ef",
   "metadata": {},
   "outputs": [
    {
     "name": "stdout",
     "output_type": "stream",
     "text": [
      "Nodes:id='Inventories' type='Inventory' properties={}\n",
      "Relationships:[Relationship(source=Node(id='Inventories', type='Inventory', properties={}), target=Node(id='Raw Material & Mfg. Components', type='Inventory', properties={}), type='CONTAINS', properties={}), Relationship(source=Node(id='Inventories', type='Inventory', properties={}), target=Node(id='Work-In-Progress', type='Inventory', properties={}), type='CONTAINS', properties={}), Relationship(source=Node(id='Inventories', type='Inventory', properties={}), target=Node(id='Finished Goods', type='Inventory', properties={}), type='CONTAINS', properties={}), Relationship(source=Node(id='Inventories', type='Inventory', properties={}), target=Node(id='Stock In Trade', type='Inventory', properties={}), type='CONTAINS', properties={}), Relationship(source=Node(id='Inventories', type='Inventory', properties={}), target=Node(id='Stores And Spares', type='Inventory', properties={}), type='CONTAINS', properties={}), Relationship(source=Node(id='Inventories', type='Inventory', properties={}), target=Node(id='Inventory Machinery Spares', type='Inventory', properties={}), type='CONTAINS', properties={}), Relationship(source=Node(id='Inventories', type='Inventory', properties={}), target=Node(id='Tools', type='Inventory', properties={}), type='CONTAINS', properties={}), Relationship(source=Node(id='Inventories', type='Inventory', properties={}), target=Node(id='Other Inventory', type='Inventory', properties={}), type='CONTAINS', properties={}), Relationship(source=Node(id='Other Inventory', type='Inventory', properties={}), target=Node(id='Food & Beverages', type='Inventory', properties={}), type='CONTAINS', properties={}), Relationship(source=Node(id='Other Inventory', type='Inventory', properties={}), target=Node(id='Ind-As Inventories', type='Inventory', properties={}), type='CONTAINS', properties={}), Relationship(source=Node(id='Other Inventory', type='Inventory', properties={}), target=Node(id='Plant & Machinery Held For Sale', type='Inventory', properties={}), type='CONTAINS', properties={})]\n"
     ]
    }
   ],
   "source": [
    "print(f\"Nodes:{graph_documents[0].nodes[0]}\")    \n",
    "print(f\"Relationships:{graph_documents[0].relationships}\")"
   ]
  }
 ],
 "metadata": {
  "kernelspec": {
   "display_name": "graphrag",
   "language": "python",
   "name": "python3"
  },
  "language_info": {
   "codemirror_mode": {
    "name": "ipython",
    "version": 3
   },
   "file_extension": ".py",
   "mimetype": "text/x-python",
   "name": "python",
   "nbconvert_exporter": "python",
   "pygments_lexer": "ipython3",
   "version": "3.10.0"
  }
 },
 "nbformat": 4,
 "nbformat_minor": 5
}
